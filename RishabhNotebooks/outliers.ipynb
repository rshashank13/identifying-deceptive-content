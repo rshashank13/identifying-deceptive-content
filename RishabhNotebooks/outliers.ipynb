{
  "nbformat": 4,
  "nbformat_minor": 0,
  "metadata": {
    "colab": {
      "provenance": [],
      "gpuType": "T4"
    },
    "kernelspec": {
      "name": "python3",
      "display_name": "Python 3"
    },
    "language_info": {
      "name": "python"
    },
    "accelerator": "GPU",
    "gpuClass": "standard"
  },
  "cells": [
    {
      "cell_type": "code",
      "execution_count": null,
      "metadata": {
        "colab": {
          "base_uri": "https://localhost:8080/"
        },
        "id": "S8dZtZX2qPwz",
        "outputId": "f6cb7123-34f7-4ed2-b111-55a7c69c53e0"
      },
      "outputs": [
        {
          "output_type": "stream",
          "name": "stdout",
          "text": [
            "Mounted at /content/drive\n",
            "Looking in indexes: https://pypi.org/simple, https://us-python.pkg.dev/colab-wheels/public/simple/\n",
            "Requirement already satisfied: transformers in /usr/local/lib/python3.9/dist-packages (4.28.1)\n",
            "Requirement already satisfied: sentencepiece in /usr/local/lib/python3.9/dist-packages (0.1.98)\n",
            "Requirement already satisfied: requests in /usr/local/lib/python3.9/dist-packages (from transformers) (2.27.1)\n",
            "Requirement already satisfied: tqdm>=4.27 in /usr/local/lib/python3.9/dist-packages (from transformers) (4.65.0)\n",
            "Requirement already satisfied: regex!=2019.12.17 in /usr/local/lib/python3.9/dist-packages (from transformers) (2022.10.31)\n",
            "Requirement already satisfied: numpy>=1.17 in /usr/local/lib/python3.9/dist-packages (from transformers) (1.22.4)\n",
            "Requirement already satisfied: filelock in /usr/local/lib/python3.9/dist-packages (from transformers) (3.11.0)\n",
            "Requirement already satisfied: packaging>=20.0 in /usr/local/lib/python3.9/dist-packages (from transformers) (23.1)\n",
            "Requirement already satisfied: pyyaml>=5.1 in /usr/local/lib/python3.9/dist-packages (from transformers) (6.0)\n",
            "Requirement already satisfied: huggingface-hub<1.0,>=0.11.0 in /usr/local/lib/python3.9/dist-packages (from transformers) (0.13.4)\n",
            "Requirement already satisfied: tokenizers!=0.11.3,<0.14,>=0.11.1 in /usr/local/lib/python3.9/dist-packages (from transformers) (0.13.3)\n",
            "Requirement already satisfied: typing-extensions>=3.7.4.3 in /usr/local/lib/python3.9/dist-packages (from huggingface-hub<1.0,>=0.11.0->transformers) (4.5.0)\n",
            "Requirement already satisfied: idna<4,>=2.5 in /usr/local/lib/python3.9/dist-packages (from requests->transformers) (3.4)\n",
            "Requirement already satisfied: charset-normalizer~=2.0.0 in /usr/local/lib/python3.9/dist-packages (from requests->transformers) (2.0.12)\n",
            "Requirement already satisfied: urllib3<1.27,>=1.21.1 in /usr/local/lib/python3.9/dist-packages (from requests->transformers) (1.26.15)\n",
            "Requirement already satisfied: certifi>=2017.4.17 in /usr/local/lib/python3.9/dist-packages (from requests->transformers) (2022.12.7)\n"
          ]
        },
        {
          "output_type": "execute_result",
          "data": {
            "text/plain": [
              "device(type='cuda')"
            ]
          },
          "metadata": {},
          "execution_count": 31
        }
      ],
      "source": [
        "from google.colab import drive\n",
        "drive.mount('/content/drive', force_remount=True) \n",
        "root = \"/content/drive/MyDrive/final/\"\n",
        "# IF not running in colab, commet above and uncomment below\n",
        "# root = \"./\"\n",
        "\n",
        "!pip install transformers sentencepiece\n",
        "\n",
        "from transformers             import AutoTokenizer, AutoModel, AutoModelForSequenceClassification, AutoConfig,Trainer, TrainingArguments, BertweetTokenizer, BertConfig, RobertaModel,RobertaTokenizer, XLMRobertaTokenizer, XLMRobertaModel\n",
        "from torch.utils.data         import Dataset, DataLoader, TensorDataset, RandomSampler, SequentialSampler\n",
        "from sklearn.metrics          import f1_score, roc_auc_score, balanced_accuracy_score, mean_squared_error, confusion_matrix, accuracy_score\n",
        "from sklearn.model_selection  import train_test_split\n",
        "from collections              import Counter\n",
        "from tqdm                     import tqdm\n",
        "from torch.nn.utils.rnn       import pad_sequence\n",
        "\n",
        "import torch.nn.functional as F\n",
        "import numpy  as np\n",
        "import pandas as pd\n",
        "\n",
        "import copy\n",
        "import torch\n",
        "import os\n",
        "import random\n",
        "import re\n",
        "import gc\n",
        "import csv\n",
        "\n",
        "device = torch.device('cuda' if torch.cuda.is_available() else 'cpu')\n",
        "device"
      ]
    },
    {
      "cell_type": "code",
      "source": [
        "test2df1 = pd.read_csv(root + '/ebd/mixed_fake_in_click1.tsv', delimiter='\\t')\n",
        "from torch import tensor\n",
        "def converter(x):\n",
        "    return eval(x)\n",
        "    \n",
        "test2df1['embedding'] = test2df1['embedding'].apply(converter)\n",
        "\n",
        "testset1 = TensorDataset(torch.stack(list(test2df1['embedding'])), torch.LongTensor(list(test2df1['label'])))\n",
        "testloader1 = DataLoader(testset1)\n",
        "print(len(testloader1))\n",
        "\n",
        "test2df2 = pd.read_csv(root + '/ebd/mixed_click1.tsv', delimiter='\\t')\n",
        "from torch import tensor\n",
        "def converter(x):\n",
        "    return eval(x)\n",
        "    \n",
        "test2df2['embedding'] = test2df2['embedding'].apply(converter)\n",
        "\n",
        "testset2 = TensorDataset(torch.stack(list(test2df2['embedding'])), torch.LongTensor(list(test2df2['label'])))\n",
        "testloader2 = DataLoader(testset2)\n",
        "print(len(testloader2))\n",
        "\n",
        "test2df3 = pd.read_csv(root + '/ebd/mixed_click_in_fake1.tsv', delimiter='\\t')\n",
        "from torch import tensor\n",
        "def converter(x):\n",
        "    return eval(x)\n",
        "    \n",
        "test2df3['embedding'] = test2df3['embedding'].apply(converter)\n",
        "\n",
        "testset3 = TensorDataset(torch.stack(list(test2df3['embedding'])), torch.LongTensor(list(test2df3['label'])))\n",
        "testloader3 = DataLoader(testset3)\n",
        "print(len(testloader3))\n",
        "\n",
        "test2df4 = pd.read_csv(root + '/ebd/mixed_fake1.tsv', delimiter='\\t')\n",
        "from torch import tensor\n",
        "def converter(x):\n",
        "    return eval(x)\n",
        "    \n",
        "test2df4['embedding'] = test2df4['embedding'].apply(converter)\n",
        "\n",
        "testset4 = TensorDataset(torch.stack(list(test2df4['embedding'])), torch.LongTensor(list(test2df4['label'])))\n",
        "testloader4 = DataLoader(testset4)\n",
        "print(len(testloader4))"
      ],
      "metadata": {
        "colab": {
          "base_uri": "https://localhost:8080/"
        },
        "id": "qAxWkgtpqpu5",
        "outputId": "7904c5ab-7db5-474a-9266-ebc6e63f3ec3"
      },
      "execution_count": null,
      "outputs": [
        {
          "output_type": "stream",
          "name": "stdout",
          "text": [
            "50\n",
            "50\n",
            "50\n",
            "50\n"
          ]
        }
      ]
    },
    {
      "cell_type": "code",
      "source": [
        "class Mod(torch.nn.Module):\n",
        "  def __init__(self, num_hidden, num_outs):\n",
        "    super().__init__()\n",
        "    self.fc1 = torch.nn.Linear(768,num_hidden)    \n",
        "    self.drop = torch.nn.Dropout(0.33)\n",
        "    self.hidden = torch.nn.Linear(num_hidden,num_outs)\n",
        "\n",
        "  def forward(self,x):\n",
        "    x = torch.nn.functional.relu(self.fc1(x))\n",
        "    x = self.drop(x)\n",
        "    return self.hidden(x)\n",
        "\n",
        "model = Mod(num_hidden = 300, num_outs = 2).to(device) \n",
        "optimizer = torch.optim.Adam(model.parameters(), lr=1e-4)\n",
        "criterion = torch.nn.CrossEntropyLoss()\n",
        "epochs = 5\n",
        "#model.load_state_dict(torch.load(\"model_trained_on_fakeddit.pt\"))#,state_dict=\"state_dict\")\n"
      ],
      "metadata": {
        "id": "LEoI_Uu1r4zk"
      },
      "execution_count": null,
      "outputs": []
    },
    {
      "cell_type": "code",
      "source": [
        "from torch.nn.functional import normalize\n",
        "model.load_state_dict(torch.load(root + \"model/modelFIN\", map_location=torch.device('cpu')))\n",
        "model.eval()\n",
        "\n",
        "# only to train\n",
        "#model = Mod(num_hidden = 300, num_outs = 2).to(device) \n",
        "#model.load_state_dict(torch.load(root + \"model/modelFIN2\"))\\\n",
        "optimizer = torch.optim.Adam(model.parameters(), lr=1e-5)\n",
        "criterion = torch.nn.CrossEntropyLoss()\n",
        "epochs = 1\n",
        "best_f1 = 0\n",
        "x_fic = []\n",
        "y_fic = []\n",
        "x_rictr = []\n",
        "y_rictr = []\n",
        "x_cic = []\n",
        "y_cic = []\n",
        "x_ric = []\n",
        "y_ric = []\n",
        "for epoch in range(epochs):\n",
        "    successes = 0\n",
        "    ypred = []\n",
        "    ytrue = []\n",
        "    i = 0\n",
        "    model.eval()\n",
        "    with torch.no_grad():\n",
        "        cnt = 0\n",
        "        for data, target in testloader1:\n",
        "            cnt += 1                \n",
        "            output = model(data.to(device))\n",
        "            ypred.append(output.argmax().cpu())\n",
        "            ytrue.append(target.to(device).cpu()[0])\n",
        "            \n",
        "            \n",
        "            #if target.to(device).cpu()[0].numpy() == 1:\n",
        "            y = output.to(device).cpu()[0][0][1].numpy()\n",
        "            x = output.to(device).cpu()[0][0][0].numpy()\n",
        "            sum_abs = abs(x) + abs(y)\n",
        "            percent_0 = abs(y) / sum_abs * 100\n",
        "            percent_1 = abs(x) / sum_abs * 100\n",
        "\n",
        "            sigmoid_x = 1 / (1 + np.exp(-x))\n",
        "            sigmoid_y = 1 / (1 + np.exp(-y))\n",
        "\n",
        "            if target.to(device).cpu()[0].numpy() == 1:\n",
        "                x_fic.append(sigmoid_y)\n",
        "                y_fic.append(sigmoid_x)\n",
        "            else:\n",
        "                x_rictr.append(sigmoid_y)\n",
        "                y_rictr.append(sigmoid_x)\n",
        "\n",
        "            #x_click_pointstr.append(sigmoid_x)\n",
        "            #y_click_pointstr.append(sigmoid_y)\n",
        "\n",
        "\n",
        "\n",
        "            if output.argmax() == target.to(device):\n",
        "                successes += 1\n",
        "\n",
        "            #else:\n",
        "              #print(cnt, ytrue[cnt - 1], ypred[cnt - 1])\n",
        "\n",
        "\n",
        "    tmp_f1 = f1_score(ytrue,ypred)\n",
        "    print(\"EPOCH: \" + str(epoch + 1) + \" Accuracy:\" + str(successes/len(testloader1)) )\n",
        "    print(\"F1: \" + str(tmp_f1))\n",
        "    print(\"AUC: \" + str(roc_auc_score(ytrue,ypred)))\n",
        "\n",
        "for epoch in range(epochs):\n",
        "    successes = 0\n",
        "    ypred = []\n",
        "    ytrue = []\n",
        "    i = 0\n",
        "    model.eval()\n",
        "    with torch.no_grad():\n",
        "        cnt = 0\n",
        "        for data, target in testloader2:\n",
        "            cnt += 1                \n",
        "            output = model(data.to(device))\n",
        "            ypred.append(output.argmax().cpu())\n",
        "            ytrue.append(target.to(device).cpu()[0])\n",
        "            \n",
        "            #if target.to(device).cpu()[0].numpy() == 1:\n",
        "            y = output.to(device).cpu()[0][0][1].numpy()\n",
        "            x = output.to(device).cpu()[0][0][0].numpy()\n",
        "            sum_abs = abs(x) + abs(y)\n",
        "            percent_0 = abs(y) / sum_abs * 100\n",
        "            percent_1 = abs(x) / sum_abs * 100\n",
        "\n",
        "            sigmoid_x = 1 / (1 + np.exp(-x))\n",
        "            sigmoid_y = 1 / (1 + np.exp(-y))\n",
        "            if target.to(device).cpu()[0].numpy() == 1:\n",
        "                x_cic.append(sigmoid_y)\n",
        "                y_cic.append(sigmoid_x)\n",
        "                \n",
        "            else:\n",
        "                x_ric.append(sigmoid_y)\n",
        "                y_ric.append(sigmoid_x)\n",
        "\n",
        "\n",
        "            if output.argmax() == target.to(device):\n",
        "                successes += 1\n",
        "\n",
        "            #else:\n",
        "              #print(cnt, ytrue[cnt - 1], ypred[cnt - 1])\n",
        "\n",
        "\n",
        "    tmp_f1 = f1_score(ytrue,ypred)\n",
        "    print(\"EPOCH: \" + str(epoch + 1) + \" Accuracy:\" + str(successes/len(testloader2)) )\n",
        "    print(\"F1: \" + str(tmp_f1))\n",
        "    print(\"AUC: \" + str(roc_auc_score(ytrue,ypred)))"
      ],
      "metadata": {
        "colab": {
          "base_uri": "https://localhost:8080/"
        },
        "id": "NznNzi3LuYuP",
        "outputId": "13f2d021-f9ff-48c6-e4ac-33021a69cae3"
      },
      "execution_count": null,
      "outputs": [
        {
          "output_type": "stream",
          "name": "stdout",
          "text": [
            "EPOCH: 1 Accuracy:0.56\n",
            "F1: 0.5\n",
            "AUC: 0.5944170771756979\n",
            "EPOCH: 1 Accuracy:0.9\n",
            "F1: 0.9180327868852458\n",
            "AUC: 0.88752052545156\n"
          ]
        }
      ]
    },
    {
      "cell_type": "code",
      "source": [
        "from torch.nn.functional import normalize\n",
        "model.load_state_dict(torch.load(root + \"model/combined_model.pt\", map_location=torch.device('cpu')))\n",
        "model.eval()\n",
        "\n",
        "# only to train\n",
        "#model = Mod(num_hidden = 300, num_outs = 2).to(device) \n",
        "#model.load_state_dict(torch.load(root + \"model/modelFIN2\"))\\\n",
        "optimizer = torch.optim.Adam(model.parameters(), lr=1e-5)\n",
        "criterion = torch.nn.CrossEntropyLoss()\n",
        "epochs = 1\n",
        "best_f1 = 0\n",
        "#y_fake_pointstr = []\n",
        "#x_fake_pointstr = []\n",
        "x_cif = []\n",
        "y_cif = []\n",
        "x_riftr = []\n",
        "y_riftr = []\n",
        "x_fif = []\n",
        "y_fif = []\n",
        "x_rif = []\n",
        "y_rif = []\n",
        "for epoch in range(epochs):\n",
        "    successes = 0\n",
        "    ypred = []\n",
        "    ytrue = []\n",
        "    i = 0\n",
        "    model.eval()\n",
        "    with torch.no_grad():\n",
        "        cnt = 0\n",
        "        for data, target in testloader3:\n",
        "            cnt += 1                \n",
        "            output = model(data.to(device))\n",
        "            ypred.append(output.argmax().cpu())\n",
        "            ytrue.append(target.to(device).cpu()[0])\n",
        "            \n",
        "            #if target.to(device).cpu()[0].numpy() == 0:\n",
        "            y = output.to(device).cpu()[0][0][1].numpy()\n",
        "            x = output.to(device).cpu()[0][0][0].numpy()\n",
        "            sum_abs = abs(x) + abs(y)\n",
        "            percent_0 = abs(y) / sum_abs * 100\n",
        "            percent_1 = abs(x) / sum_abs * 100\n",
        "\n",
        "            sigmoid_x = 1 / (1 + np.exp(-x))\n",
        "            sigmoid_y = 1 / (1 + np.exp(-y))\n",
        "\n",
        "            if target.to(device).cpu()[0].numpy() == 0:\n",
        "                x_cif.append(sigmoid_x)\n",
        "                y_cif.append(sigmoid_y)\n",
        "            else:\n",
        "                x_rictr.append(sigmoid_x)\n",
        "                y_rictr.append(sigmoid_y)\n",
        "\n",
        "\n",
        "            #y_fake_pointstr.append(sigmoid_x)\n",
        "            #x_fake_pointstr.append(sigmoid_y)\n",
        "\n",
        "\n",
        "            if output.argmax() == target.to(device):\n",
        "                successes += 1\n",
        "\n",
        "            #else:\n",
        "              #print(cnt, ytrue[cnt - 1], ypred[cnt - 1])\n",
        "\n",
        "\n",
        "    tmp_f1 = f1_score(ytrue,ypred)\n",
        "    print(\"EPOCH: \" + str(epoch + 1) + \" Accuracy:\" + str(successes/len(testloader3)) )\n",
        "    print(\"F1: \" + str(tmp_f1))\n",
        "    print(\"AUC: \" + str(roc_auc_score(ytrue,ypred)))\n",
        "\n",
        "for epoch in range(epochs):\n",
        "    successes = 0\n",
        "    ypred = []\n",
        "    ytrue = []\n",
        "    i = 0\n",
        "    model.eval()\n",
        "    with torch.no_grad():\n",
        "        cnt = 0\n",
        "        for data, target in testloader4:\n",
        "            cnt += 1                \n",
        "            output = model(data.to(device))\n",
        "            ypred.append(output.argmax().cpu())\n",
        "            ytrue.append(target.to(device).cpu()[0])\n",
        "            \n",
        "            #if target.to(device).cpu()[0].numpy() == 0:\n",
        "            y = output.to(device).cpu()[0][0][1].numpy()\n",
        "            x = output.to(device).cpu()[0][0][0].numpy()\n",
        "            sum_abs = abs(x) + abs(y)\n",
        "            percent_0 = abs(y) / sum_abs * 100\n",
        "            percent_1 = abs(x) / sum_abs * 100\n",
        "\n",
        "            sigmoid_x = 1 / (1 + np.exp(-x))\n",
        "            sigmoid_y = 1 / (1 + np.exp(-y))\n",
        "            if target.to(device).cpu()[0].numpy() == 0:\n",
        "                x_fif.append(sigmoid_x)\n",
        "                y_fif.append(sigmoid_y)\n",
        "            else:\n",
        "                x_rif.append(sigmoid_x)\n",
        "                y_rif.append(sigmoid_y)\n",
        "\n",
        "            if output.argmax() == target.to(device):\n",
        "                successes += 1\n",
        "\n",
        "            #else:\n",
        "              #print(cnt, ytrue[cnt - 1], ypred[cnt - 1])\n",
        "\n",
        "\n",
        "    tmp_f1 = f1_score(ytrue,ypred)\n",
        "    print(\"EPOCH: \" + str(epoch + 1) + \" Accuracy:\" + str(successes/len(testloader4)) )\n",
        "    print(\"F1: \" + str(tmp_f1))\n",
        "    print(\"AUC: \" + str(roc_auc_score(ytrue,ypred)))"
      ],
      "metadata": {
        "colab": {
          "base_uri": "https://localhost:8080/"
        },
        "id": "2Z2RW_egwZcK",
        "outputId": "187feaae-b90b-4219-9b51-1c3b6ceba8f7"
      },
      "execution_count": null,
      "outputs": [
        {
          "output_type": "stream",
          "name": "stdout",
          "text": [
            "EPOCH: 1 Accuracy:0.84\n",
            "F1: 0.8\n",
            "AUC: 0.8292282430213465\n",
            "EPOCH: 1 Accuracy:0.82\n",
            "F1: 0.7804878048780488\n",
            "AUC: 0.8119868637110016\n"
          ]
        }
      ]
    },
    {
      "cell_type": "code",
      "source": [],
      "metadata": {
        "id": "zM-9sPBTu4sf"
      },
      "execution_count": null,
      "outputs": []
    },
    {
      "cell_type": "code",
      "source": [
        "import pickle\n",
        "\n",
        "# Combine data into a single list\n",
        "data = []\n",
        "\n",
        "for i in range(len(x_fic)):\n",
        "    data.append((x_fic[i], y_fic[i], \"fakeD_clickM\"))\n",
        "\n",
        "for i in range(len(x_cic)):\n",
        "    data.append((x_cic[i], y_cic[i], \"clickD_clickM\"))\n",
        "\n",
        "for i in range(len(x_ric)):\n",
        "    data.append((x_ric[i], y_ric[i], \"realD_clickM\"))\n",
        "\n",
        "for i in range(len(x_fic)):\n",
        "    data.append((x_cif[i], y_cif[i], \"clickD_fakeM\"))\n",
        "\n",
        "for i in range(len(x_cic)):\n",
        "    data.append((x_fif[i], y_fif[i], \"fakeD_fakeM\"))\n",
        "\n",
        "for i in range(len(x_ric)):\n",
        "    data.append((x_rif[i], y_rif[i], \"realD_fakeM\"))\n",
        "\n",
        "# Dump data to pickle file\n",
        "with open(root + \"points.pickle\", \"wb\") as f:\n",
        "    pickle.dump(data, f)"
      ],
      "metadata": {
        "id": "qCiCVu2wAnLS"
      },
      "execution_count": null,
      "outputs": []
    },
    {
      "cell_type": "code",
      "source": [
        "import matplotlib.pyplot as plt\n",
        "plt.scatter(x_cic, x_cif, c=\"red\", label=\"Clickbait\")\n",
        "plt.scatter(x_fic, x_fif, c=\"green\", label=\"Fake News\")\n",
        "plt.scatter(x_ric, x_rif, c=\"blue\", label=\"Real\")\n",
        "plt.legend()\n",
        "\n",
        "plt.xlabel(\"Clickbait\")\n",
        "plt.ylabel(\"Fake News\")\n",
        "#ax = plt.gca()\n",
        "#ax.axes.xaxis.set_ticklabels([])\n",
        "#ax.axes.yaxis.set_ticklabels([])\n",
        "#plt.axis([a,b,c,d])\n",
        "plt.axline((0, 0), slope=1)\n",
        "\n",
        "plt.show()"
      ],
      "metadata": {
        "colab": {
          "base_uri": "https://localhost:8080/",
          "height": 449
        },
        "id": "2VMJxH9_EmBP",
        "outputId": "9f8369da-8bfc-4cd6-f71c-e22e4593a71f"
      },
      "execution_count": null,
      "outputs": [
        {
          "output_type": "display_data",
          "data": {
            "text/plain": [
              "<Figure size 640x480 with 1 Axes>"
            ],
            "image/png": "[encoded data removed]"
          },
          "metadata": {}
        }
      ]
    },
    {
      "cell_type": "code",
      "source": [
        "import matplotlib.pyplot as plt\n",
        "plt.scatter([[0.35]*len(x_cic)], x_cic, c=\"red\", label=\"Clickbait\")\n",
        "plt.scatter([[0.40]*len(x_fic)], x_fic, c=\"green\", label=\"Fake News\")\n",
        "plt.scatter([[0.45]*len(x_ric)], x_ric, c=\"blue\", label=\"Real\")\n",
        "plt.scatter([[1.60]*len(x_cif)], x_cif, c=\"red\")\n",
        "plt.scatter([[1.65]*len(x_fif)], x_fif, c=\"green\")\n",
        "plt.scatter([[1.70]*len(x_rif)], x_rif, c=\"blue\")\n",
        "plt.legend()\n",
        "\n",
        "plt.ylabel(\"Clickbait / Fake News\")\n",
        "plt.xlabel(\"Clickbait Model                                              Fake News Model\")\n",
        "ax = plt.gca()\n",
        "ax.axes.xaxis.set_ticklabels([])\n",
        "#ax.axes.yaxis.set_ticklabels([])\n",
        "plt.axis([0.0,2.0,-0.1,1.1])\n",
        "#plt.axline((0, 0), slope=1)\n",
        "\n",
        "plt.show()"
      ],
      "metadata": {
        "colab": {
          "base_uri": "https://localhost:8080/",
          "height": 435
        },
        "id": "qAmbFLgqI8RQ",
        "outputId": "139b1a76-4cbc-4507-90ff-f4375da52788"
      },
      "execution_count": null,
      "outputs": [
        {
          "output_type": "display_data",
          "data": {
            "text/plain": [
              "<Figure size 640x480 with 1 Axes>"
            ],
            "image/png": "[encoded data removed]"
          },
          "metadata": {}
        }
      ]
    },
    {
      "cell_type": "code",
      "source": [
        "import numpy as np\n",
        "from sklearn.manifold import TSNE\n",
        "\n",
        "model.load_state_dict(torch.load(root + \"model/modelFIN\", map_location=torch.device('cpu')))\n",
        "model.eval()\n",
        "\n",
        "\n",
        "hidden_outputs_nptr = []\n",
        "ytruetr = []\n",
        "hidden_outputs_np = []\n",
        "ytrue = []\n",
        "\n",
        "\n",
        "with torch.no_grad():\n",
        "    for data, target in testloader1:\n",
        "        output = model.fc1(data.to(device))\n",
        "        hidden_outputs_nptr.append(output.cpu().numpy().reshape((1, 300)))\n",
        "        ytruetr.append(target.numpy())\n",
        "hidden_outputs_nptr = np.concatenate(hidden_outputs_nptr, axis=0)\n",
        "ytruetr = np.concatenate(ytruetr, axis=0)\n",
        "\n",
        "with torch.no_grad():\n",
        "    for data, target in testloader2:\n",
        "        output = model.fc1(data.to(device))\n",
        "        hidden_outputs_np.append(output.cpu().numpy().reshape((1, 300)))\n",
        "        ytrue.append(target.numpy())\n",
        "\n",
        "hidden_outputs_np = np.concatenate(hidden_outputs_np, axis=0)\n",
        "ytrue = np.concatenate(ytrue, axis=0)\n",
        "tsne = TSNE(n_components=2, learning_rate='auto', init='random', perplexity=10)\n",
        "hidden_outputs_2d = tsne.fit_transform(hidden_outputs_np)\n",
        "hidden_outputs_2dtr = tsne.fit_transform(hidden_outputs_nptr)\n",
        "\n",
        "\n",
        "model.load_state_dict(torch.load(root + \"model/combined_model.pt\", map_location=torch.device('cpu')))\n",
        "model.eval()\n",
        "\n",
        "hidden_outputs_np1tr = []\n",
        "ytrue1tr = []\n",
        "\n",
        "hidden_outputs_np1 = []\n",
        "ytrue1 = []\n",
        "\n",
        "\n",
        "with torch.no_grad():\n",
        "    for data, target in testloader3:\n",
        "        output = model.fc1(data.to(device))\n",
        "        hidden_outputs_np1tr.append(output.cpu().numpy().reshape((1, 300)))\n",
        "        ytrue1tr.append(target.numpy())\n",
        "\n",
        "hidden_outputs_np1tr = np.concatenate(hidden_outputs_np1tr, axis=0)\n",
        "ytrue1tr = np.concatenate(ytrue1tr, axis=0)\n",
        "with torch.no_grad():\n",
        "    for data, target in testloader4:\n",
        "        output = model.fc1(data.to(device))\n",
        "        hidden_outputs_np1.append(output.cpu().numpy().reshape((1, 300)))\n",
        "        ytrue1.append(target.numpy())\n",
        "\n",
        "hidden_outputs_np1 = np.concatenate(hidden_outputs_np1, axis=0)\n",
        "ytrue1 = np.concatenate(ytrue1, axis=0)\n",
        "tsne = TSNE(n_components=2, learning_rate='auto', init='random', perplexity=10)\n",
        "hidden_outputs_2d1 = tsne.fit_transform(hidden_outputs_np1)\n",
        "hidden_outputs_2d1tr = tsne.fit_transform(hidden_outputs_np1tr)\n",
        "\n"
      ],
      "metadata": {
        "id": "X1rdbHn7d6BD"
      },
      "execution_count": null,
      "outputs": []
    },
    {
      "cell_type": "code",
      "source": [
        "import matplotlib.pyplot as plt\n",
        "\n",
        "ytrue_np = ytrue\n",
        "ytrue_nptr = ytruetr\n",
        "green_mask = (ytrue_nptr == 1)\n",
        "red_mask = (ytrue_np == 1)\n",
        "blue_mask = (ytrue_np == 0)\n",
        "\n",
        "# Plot points with ytrue=1 in red and ytrue=0 in blue\n",
        "plt.scatter(hidden_outputs_2d[red_mask, 0], hidden_outputs_2d[red_mask, 1], c='red', label='Clickbait')\n",
        "plt.scatter(hidden_outputs_2d[blue_mask, 0], hidden_outputs_2d[blue_mask, 1], c='blue', label='Real')\n",
        "plt.scatter(hidden_outputs_2dtr[green_mask, 0], hidden_outputs_2dtr[green_mask, 1], c='green', label='Fake')\n",
        "plt.legend()\n",
        "plt.xlabel(\"Clickbait Model\")\n",
        "ax = plt.gca()\n",
        "ax.axes.xaxis.set_ticklabels([])\n",
        "ax.axes.yaxis.set_ticklabels([])\n",
        "plt.show()"
      ],
      "metadata": {
        "colab": {
          "base_uri": "https://localhost:8080/",
          "height": 435
        },
        "id": "fci5lrIAr6V_",
        "outputId": "d3f6062e-de30-4791-e2a2-5548f74812dc"
      },
      "execution_count": null,
      "outputs": [
        {
          "output_type": "display_data",
          "data": {
            "text/plain": [
              "<Figure size 640x480 with 1 Axes>"
            ],
            "image/png": "[encoded data removed]"
          },
          "metadata": {}
        }
      ]
    },
    {
      "cell_type": "code",
      "source": [
        "import matplotlib.pyplot as plt\n",
        "\n",
        "ytrue_np1 = ytrue1\n",
        "ytrue_np1tr = ytrue1tr\n",
        "green_mask = (ytrue_np1tr == 0)\n",
        "red_mask = (ytrue_np1 == 0)\n",
        "blue_mask = (ytrue_np1 == 1)\n",
        "\n",
        "# Plot points with ytrue=1 in red and ytrue=0 in blue\n",
        "plt.scatter(hidden_outputs_2d1tr[red_mask, 0], hidden_outputs_2d1tr[red_mask, 1], c='red', label='Clickbait')\n",
        "plt.scatter(hidden_outputs_2d1[blue_mask, 0], hidden_outputs_2d1[blue_mask, 1], c='blue', label='Real')\n",
        "plt.scatter(hidden_outputs_2d1[green_mask, 0], hidden_outputs_2d1[green_mask, 1], c='green', label='Fake')\n",
        "plt.legend()\n",
        "plt.xlabel(\"Fake News Model\")\n",
        "ax = plt.gca()\n",
        "ax.axes.xaxis.set_ticklabels([])\n",
        "ax.axes.yaxis.set_ticklabels([])\n",
        "plt.show()"
      ],
      "metadata": {
        "colab": {
          "base_uri": "https://localhost:8080/",
          "height": 435
        },
        "id": "Fnp0csUIs04q",
        "outputId": "20575876-fd87-4ae9-a097-33ff2b785a0d"
      },
      "execution_count": null,
      "outputs": [
        {
          "output_type": "display_data",
          "data": {
            "text/plain": [
              "<Figure size 640x480 with 1 Axes>"
            ],
            "image/png": "[encoded data removed]"
          },
          "metadata": {}
        }
      ]
    },
    {
      "cell_type": "code",
      "source": [
        "import matplotlib.pyplot as plt\n",
        "\n",
        "ytrue_np = ytrue\n",
        "red_mask = (ytrue_np == 1)\n",
        "blue_mask = (ytrue_np == 0)\n",
        "\n",
        "ytrue_np1 = ytrue1\n",
        "green_mask = (ytrue_np1 == 0)\n",
        "blue_mask = (ytrue_np1 == 1)\n",
        "\n",
        "\n",
        "\n",
        "# Plot points with ytrue=1 in red and ytrue=0 in blue\n",
        "plt.scatter(hidden_outputs_2d[red_mask, 0], hidden_outputs_2d[red_mask, 1], c='red', label='Clickbait')\n",
        "plt.scatter(hidden_outputs_2d[blue_mask, 0], hidden_outputs_2d[blue_mask, 1], c='blue', label='Real')\n",
        "plt.scatter(hidden_outputs_2d1[green_mask, 0], hidden_outputs_2d1[green_mask, 1], c='green', label='Fake')\n",
        "plt.scatter(hidden_outputs_2d1[blue_mask, 0], hidden_outputs_2d1[blue_mask, 1], c='blue')\n",
        "plt.legend()\n",
        "ax = plt.gca()\n",
        "ax.axes.xaxis.set_ticklabels([])\n",
        "ax.axes.yaxis.set_ticklabels([])\n",
        "plt.show()"
      ],
      "metadata": {
        "colab": {
          "base_uri": "https://localhost:8080/",
          "height": 411
        },
        "id": "s5RAMOKWnLEC",
        "outputId": "cbb587d5-a7a4-43b2-a0e9-8b534b97859f"
      },
      "execution_count": null,
      "outputs": [
        {
          "output_type": "display_data",
          "data": {
            "text/plain": [
              "<Figure size 640x480 with 1 Axes>"
            ],
            "image/png": "[encoded data removed]"
          },
          "metadata": {}
        }
      ]
    },
    {
      "cell_type": "code",
      "source": [
        "import matplotlib.pyplot as plt\n",
        "\n",
        "def rep(x_click_points,y_click_points,x_click_pointstr,y_click_pointstr,x_fake_points,y_fake_points,x_fake_pointstr,y_fake_pointstr,a,b,c,d):\n",
        "    #plt.scatter(x_click_points, y_click_points, c=\"green\", label=\"Clickbait Points\")\n",
        "    #plt.scatter(x_click_pointstr, y_click_pointstr, c=\"orange\", label=\"Tranformed Fake Points\")\n",
        "    plt.scatter(x_fake_points, y_fake_points, c=\"red\", label=\"Fake News Points\")\n",
        "    #plt.scatter(x_fake_pointstr, y_fake_pointstr, c=\"lightgreen\", label=\"Transformed Clickbait Points\")\n",
        "\n",
        "    # add a legend to the plot\n",
        "    plt.legend()\n",
        "\n",
        "    plt.xlabel(\"Non - Clickbait / Non - Fake News\")\n",
        "    plt.ylabel(\"Clickbait / Fake News\")\n",
        "    #ax = plt.gca()\n",
        "    #ax.axes.xaxis.set_ticklabels([])\n",
        "    #ax.axes.yaxis.set_ticklabels([])\n",
        "    plt.axis([a,b,c,d])\n",
        "    #plt.axline((0, 0), slope=1)\n",
        "\n",
        "    plt.show()\n",
        "\n",
        "#rep(x_click_points,y_click_points,x_click_pointstr,y_click_pointstr,x_fake_points,y_fake_points,x_fake_pointstr,y_fake_pointstr,0.0, 0.33, 0.67, 1.0)\n",
        "#rep(x_click_points,y_click_points,x_click_pointstr,y_click_pointstr,x_fake_points,y_fake_points,x_fake_pointstr,y_fake_pointstr,0.33,0.67,0.33,0.67)\n",
        "#rep(x_click_points,y_click_points,x_click_pointstr,y_click_pointstr,x_fake_points,y_fake_points,x_fake_pointstr,y_fake_pointstr,0.67,1.0,0.0,0.33)\n",
        "\n",
        "rep(x_click_points,y_click_points,x_click_pointstr,y_click_pointstr,x_fake_points,y_fake_points,x_fake_pointstr,y_fake_pointstr,0.0,1.0,0.0,1.0)\n"
      ],
      "metadata": {
        "colab": {
          "base_uri": "https://localhost:8080/",
          "height": 455
        },
        "id": "u2zM_4CSwwTq",
        "outputId": "4349ef3e-a0c9-4b1f-d523-a53283167c3a"
      },
      "execution_count": null,
      "outputs": [
        {
          "output_type": "display_data",
          "data": {
            "text/plain": [
              "<Figure size 640x480 with 1 Axes>"
            ],
            "image/png": "[encoded data removed]"
          },
          "metadata": {}
        }
      ]
    },
    {
      "cell_type": "code",
      "source": [
        "import torch.nn as nn\n",
        "# Load the state dictionaries of the two models\n",
        "state_dict_fake = torch.load(root + \"/model/combined_model.pt\")\n",
        "state_dict_click = torch.load(root + \"/model/modelFIN\")"
      ],
      "metadata": {
        "id": "ZwK7vpaJqzMk"
      },
      "execution_count": null,
      "outputs": []
    },
    {
      "cell_type": "code",
      "source": [
        "# Merge the state dictionaries of the two models\n",
        "state_dict_combined = {}\n",
        "state_dict_combined1 = {}\n",
        "for key, value in state_dict_fake.items():\n",
        "    state_dict_combined[key] = value\n",
        "for key, value in state_dict_click.items():\n",
        "    state_dict_combined1[key] = value\n",
        "\n",
        "print(state_dict_combined1['hidden.bias'], state_dict_combined['hidden.bias'])"
      ],
      "metadata": {
        "colab": {
          "base_uri": "https://localhost:8080/"
        },
        "id": "YarDmEYnvVV5",
        "outputId": "e59052ec-c77c-4c17-f41e-68b469a45b77"
      },
      "execution_count": null,
      "outputs": [
        {
          "output_type": "stream",
          "name": "stdout",
          "text": [
            "tensor([-0.0543,  0.0572], device='cuda:0') tensor([ 0.0693, -0.0901], device='cuda:0')\n"
          ]
        }
      ]
    },
    {
      "cell_type": "code",
      "source": [
        "\n",
        "state_dict_combined['hidden.bias'] = torch.flip(state_dict_combined['hidden.bias'], dims=(0,))\n",
        "\n",
        "for key in state_dict_combined1:\n",
        "    state_dict_combined1[key] = (state_dict_combined1[key] + state_dict_combined[key]) / 2\n",
        "\n",
        "print(state_dict_combined1['hidden.bias'], state_dict_combined['hidden.bias'])"
      ],
      "metadata": {
        "colab": {
          "base_uri": "https://localhost:8080/"
        },
        "id": "euesi8hAvbHt",
        "outputId": "6d3e1816-aa63-424f-f205-a23f83172438"
      },
      "execution_count": null,
      "outputs": [
        {
          "output_type": "stream",
          "name": "stdout",
          "text": [
            "tensor([-0.0722,  0.0633], device='cuda:0') tensor([-0.0901,  0.0693], device='cuda:0')\n"
          ]
        }
      ]
    },
    {
      "cell_type": "code",
      "source": [
        "# Create a new instance of the model you want to merge the state dictionaries for\n",
        "merged_model = Mod(num_hidden = 300, num_outs = 2).to(device) \n",
        "\n",
        "\n",
        "# Load the merged state dictionary into the merged_model\n",
        "merged_model.load_state_dict(state_dict_combined1)"
      ],
      "metadata": {
        "colab": {
          "base_uri": "https://localhost:8080/"
        },
        "id": "WkXw-HZav4SL",
        "outputId": "8f0e725f-9a55-4b60-94b3-70b2dcf44aed"
      },
      "execution_count": null,
      "outputs": [
        {
          "output_type": "execute_result",
          "data": {
            "text/plain": [
              "<All keys matched successfully>"
            ]
          },
          "metadata": {},
          "execution_count": 47
        }
      ]
    },
    {
      "cell_type": "code",
      "source": [
        "model.load_state_dict(torch.load(root + \"model/modelFIN\", map_location=torch.device('cpu')))\n",
        "model.eval()\n",
        "epochs = 1\n",
        "for epoch in range(epochs):\n",
        "    successes = 0\n",
        "    ypred = []\n",
        "    ytrue = []\n",
        "    i = 0\n",
        "    model.eval()\n",
        "    with torch.no_grad():\n",
        "        cnt = 0\n",
        "        for data, target in testloader:\n",
        "            cnt += 1                \n",
        "            output = model(data.to(device))\n",
        "            ypred.append(output.argmax().cpu())\n",
        "            ytrue.append(target.to(device).cpu()[0])\n",
        "\n",
        "            if output.argmax() == target.to(device):\n",
        "                successes += 1\n",
        "\n",
        "            #else:\n",
        "              #print(cnt, ytrue[cnt - 1], ypred[cnt - 1])\n",
        "\n",
        "\n",
        "    tmp_f1 = f1_score(ytrue,ypred)\n",
        "    print(\"EPOCH: \" + str(epoch + 1) + \" Accuracy:\" + str(successes/len(testloader)) )\n",
        "    print(\"F1: \" + str(tmp_f1))\n",
        "    print(\"AUC: \" + str(roc_auc_score(ytrue,ypred)))"
      ],
      "metadata": {
        "colab": {
          "base_uri": "https://localhost:8080/",
          "height": 396
        },
        "id": "z3JuWO37zxwZ",
        "outputId": "49c7f280-94d5-4397-b71e-64f511e00e9a"
      },
      "execution_count": null,
      "outputs": [
        {
          "output_type": "stream",
          "name": "stdout",
          "text": [
            "EPOCH: 1 Accuracy:0.8637421852520338\n",
            "F1: 0.8561764868297531\n"
          ]
        },
        {
          "output_type": "error",
          "ename": "KeyboardInterrupt",
          "evalue": "ignored",
          "traceback": [
            "\u001b[0;31m---------------------------------------------------------------------------\u001b[0m",
            "\u001b[0;31mKeyboardInterrupt\u001b[0m                         Traceback (most recent call last)",
            "\u001b[0;32m<ipython-input-52-5b4281f426a2>\u001b[0m in \u001b[0;36m<cell line: 4>\u001b[0;34m()\u001b[0m\n\u001b[1;32m     26\u001b[0m     \u001b[0mprint\u001b[0m\u001b[0;34m(\u001b[0m\u001b[0;34m\"EPOCH: \"\u001b[0m \u001b[0;34m+\u001b[0m \u001b[0mstr\u001b[0m\u001b[0;34m(\u001b[0m\u001b[0mepoch\u001b[0m \u001b[0;34m+\u001b[0m \u001b[0;36m1\u001b[0m\u001b[0;34m)\u001b[0m \u001b[0;34m+\u001b[0m \u001b[0;34m\" Accuracy:\"\u001b[0m \u001b[0;34m+\u001b[0m \u001b[0mstr\u001b[0m\u001b[0;34m(\u001b[0m\u001b[0msuccesses\u001b[0m\u001b[0;34m/\u001b[0m\u001b[0mlen\u001b[0m\u001b[0;34m(\u001b[0m\u001b[0mtestloader\u001b[0m\u001b[0;34m)\u001b[0m\u001b[0;34m)\u001b[0m \u001b[0;34m)\u001b[0m\u001b[0;34m\u001b[0m\u001b[0;34m\u001b[0m\u001b[0m\n\u001b[1;32m     27\u001b[0m     \u001b[0mprint\u001b[0m\u001b[0;34m(\u001b[0m\u001b[0;34m\"F1: \"\u001b[0m \u001b[0;34m+\u001b[0m \u001b[0mstr\u001b[0m\u001b[0;34m(\u001b[0m\u001b[0mtmp_f1\u001b[0m\u001b[0;34m)\u001b[0m\u001b[0;34m)\u001b[0m\u001b[0;34m\u001b[0m\u001b[0;34m\u001b[0m\u001b[0m\n\u001b[0;32m---> 28\u001b[0;31m     \u001b[0mprint\u001b[0m\u001b[0;34m(\u001b[0m\u001b[0;34m\"AUC: \"\u001b[0m \u001b[0;34m+\u001b[0m \u001b[0mstr\u001b[0m\u001b[0;34m(\u001b[0m\u001b[0mroc_auc_score\u001b[0m\u001b[0;34m(\u001b[0m\u001b[0mytrue\u001b[0m\u001b[0;34m,\u001b[0m\u001b[0mypred\u001b[0m\u001b[0;34m)\u001b[0m\u001b[0;34m)\u001b[0m\u001b[0;34m)\u001b[0m\u001b[0;34m\u001b[0m\u001b[0;34m\u001b[0m\u001b[0m\n\u001b[0m",
            "\u001b[0;32m/usr/local/lib/python3.9/dist-packages/sklearn/metrics/_ranking.py\u001b[0m in \u001b[0;36mroc_auc_score\u001b[0;34m(y_true, y_score, average, sample_weight, max_fpr, multi_class, labels)\u001b[0m\n\u001b[1;32m    549\u001b[0m     \u001b[0my_type\u001b[0m \u001b[0;34m=\u001b[0m \u001b[0mtype_of_target\u001b[0m\u001b[0;34m(\u001b[0m\u001b[0my_true\u001b[0m\u001b[0;34m,\u001b[0m \u001b[0minput_name\u001b[0m\u001b[0;34m=\u001b[0m\u001b[0;34m\"y_true\"\u001b[0m\u001b[0;34m)\u001b[0m\u001b[0;34m\u001b[0m\u001b[0;34m\u001b[0m\u001b[0m\n\u001b[1;32m    550\u001b[0m     \u001b[0my_true\u001b[0m \u001b[0;34m=\u001b[0m \u001b[0mcheck_array\u001b[0m\u001b[0;34m(\u001b[0m\u001b[0my_true\u001b[0m\u001b[0;34m,\u001b[0m \u001b[0mensure_2d\u001b[0m\u001b[0;34m=\u001b[0m\u001b[0;32mFalse\u001b[0m\u001b[0;34m,\u001b[0m \u001b[0mdtype\u001b[0m\u001b[0;34m=\u001b[0m\u001b[0;32mNone\u001b[0m\u001b[0;34m)\u001b[0m\u001b[0;34m\u001b[0m\u001b[0;34m\u001b[0m\u001b[0m\n\u001b[0;32m--> 551\u001b[0;31m     \u001b[0my_score\u001b[0m \u001b[0;34m=\u001b[0m \u001b[0mcheck_array\u001b[0m\u001b[0;34m(\u001b[0m\u001b[0my_score\u001b[0m\u001b[0;34m,\u001b[0m \u001b[0mensure_2d\u001b[0m\u001b[0;34m=\u001b[0m\u001b[0;32mFalse\u001b[0m\u001b[0;34m)\u001b[0m\u001b[0;34m\u001b[0m\u001b[0;34m\u001b[0m\u001b[0m\n\u001b[0m\u001b[1;32m    552\u001b[0m \u001b[0;34m\u001b[0m\u001b[0m\n\u001b[1;32m    553\u001b[0m     if y_type == \"multiclass\" or (\n",
            "\u001b[0;32m/usr/local/lib/python3.9/dist-packages/sklearn/utils/validation.py\u001b[0m in \u001b[0;36mcheck_array\u001b[0;34m(array, accept_sparse, accept_large_sparse, dtype, order, copy, force_all_finite, ensure_2d, allow_nd, ensure_min_samples, ensure_min_features, estimator, input_name)\u001b[0m\n\u001b[1;32m    877\u001b[0m                     \u001b[0marray\u001b[0m \u001b[0;34m=\u001b[0m \u001b[0mxp\u001b[0m\u001b[0;34m.\u001b[0m\u001b[0mastype\u001b[0m\u001b[0;34m(\u001b[0m\u001b[0marray\u001b[0m\u001b[0;34m,\u001b[0m \u001b[0mdtype\u001b[0m\u001b[0;34m,\u001b[0m \u001b[0mcopy\u001b[0m\u001b[0;34m=\u001b[0m\u001b[0;32mFalse\u001b[0m\u001b[0;34m)\u001b[0m\u001b[0;34m\u001b[0m\u001b[0;34m\u001b[0m\u001b[0m\n\u001b[1;32m    878\u001b[0m                 \u001b[0;32melse\u001b[0m\u001b[0;34m:\u001b[0m\u001b[0;34m\u001b[0m\u001b[0;34m\u001b[0m\u001b[0m\n\u001b[0;32m--> 879\u001b[0;31m                     \u001b[0marray\u001b[0m \u001b[0;34m=\u001b[0m \u001b[0m_asarray_with_order\u001b[0m\u001b[0;34m(\u001b[0m\u001b[0marray\u001b[0m\u001b[0;34m,\u001b[0m \u001b[0morder\u001b[0m\u001b[0;34m=\u001b[0m\u001b[0morder\u001b[0m\u001b[0;34m,\u001b[0m \u001b[0mdtype\u001b[0m\u001b[0;34m=\u001b[0m\u001b[0mdtype\u001b[0m\u001b[0;34m,\u001b[0m \u001b[0mxp\u001b[0m\u001b[0;34m=\u001b[0m\u001b[0mxp\u001b[0m\u001b[0;34m)\u001b[0m\u001b[0;34m\u001b[0m\u001b[0;34m\u001b[0m\u001b[0m\n\u001b[0m\u001b[1;32m    880\u001b[0m             \u001b[0;32mexcept\u001b[0m \u001b[0mComplexWarning\u001b[0m \u001b[0;32mas\u001b[0m \u001b[0mcomplex_warning\u001b[0m\u001b[0;34m:\u001b[0m\u001b[0;34m\u001b[0m\u001b[0;34m\u001b[0m\u001b[0m\n\u001b[1;32m    881\u001b[0m                 raise ValueError(\n",
            "\u001b[0;32m/usr/local/lib/python3.9/dist-packages/sklearn/utils/_array_api.py\u001b[0m in \u001b[0;36m_asarray_with_order\u001b[0;34m(array, dtype, order, copy, xp)\u001b[0m\n\u001b[1;32m    183\u001b[0m     \u001b[0;32mif\u001b[0m \u001b[0mxp\u001b[0m\u001b[0;34m.\u001b[0m\u001b[0m__name__\u001b[0m \u001b[0;32min\u001b[0m \u001b[0;34m{\u001b[0m\u001b[0;34m\"numpy\"\u001b[0m\u001b[0;34m,\u001b[0m \u001b[0;34m\"numpy.array_api\"\u001b[0m\u001b[0;34m}\u001b[0m\u001b[0;34m:\u001b[0m\u001b[0;34m\u001b[0m\u001b[0;34m\u001b[0m\u001b[0m\n\u001b[1;32m    184\u001b[0m         \u001b[0;31m# Use NumPy API to support order\u001b[0m\u001b[0;34m\u001b[0m\u001b[0;34m\u001b[0m\u001b[0m\n\u001b[0;32m--> 185\u001b[0;31m         \u001b[0marray\u001b[0m \u001b[0;34m=\u001b[0m \u001b[0mnumpy\u001b[0m\u001b[0;34m.\u001b[0m\u001b[0masarray\u001b[0m\u001b[0;34m(\u001b[0m\u001b[0marray\u001b[0m\u001b[0;34m,\u001b[0m \u001b[0morder\u001b[0m\u001b[0;34m=\u001b[0m\u001b[0morder\u001b[0m\u001b[0;34m,\u001b[0m \u001b[0mdtype\u001b[0m\u001b[0;34m=\u001b[0m\u001b[0mdtype\u001b[0m\u001b[0;34m)\u001b[0m\u001b[0;34m\u001b[0m\u001b[0;34m\u001b[0m\u001b[0m\n\u001b[0m\u001b[1;32m    186\u001b[0m         \u001b[0;32mreturn\u001b[0m \u001b[0mxp\u001b[0m\u001b[0;34m.\u001b[0m\u001b[0masarray\u001b[0m\u001b[0;34m(\u001b[0m\u001b[0marray\u001b[0m\u001b[0;34m,\u001b[0m \u001b[0mcopy\u001b[0m\u001b[0;34m=\u001b[0m\u001b[0mcopy\u001b[0m\u001b[0;34m)\u001b[0m\u001b[0;34m\u001b[0m\u001b[0;34m\u001b[0m\u001b[0m\n\u001b[1;32m    187\u001b[0m     \u001b[0;32melse\u001b[0m\u001b[0;34m:\u001b[0m\u001b[0;34m\u001b[0m\u001b[0;34m\u001b[0m\u001b[0m\n",
            "\u001b[0;32m/usr/local/lib/python3.9/dist-packages/torch/_tensor.py\u001b[0m in \u001b[0;36m__array__\u001b[0;34m(self, dtype)\u001b[0m\n\u001b[1;32m    964\u001b[0m     \u001b[0m__array_priority__\u001b[0m \u001b[0;34m=\u001b[0m \u001b[0;36m1000\u001b[0m  \u001b[0;31m# prefer Tensor ops over numpy ones\u001b[0m\u001b[0;34m\u001b[0m\u001b[0;34m\u001b[0m\u001b[0m\n\u001b[1;32m    965\u001b[0m \u001b[0;34m\u001b[0m\u001b[0m\n\u001b[0;32m--> 966\u001b[0;31m     \u001b[0;32mdef\u001b[0m \u001b[0m__array__\u001b[0m\u001b[0;34m(\u001b[0m\u001b[0mself\u001b[0m\u001b[0;34m,\u001b[0m \u001b[0mdtype\u001b[0m\u001b[0;34m=\u001b[0m\u001b[0;32mNone\u001b[0m\u001b[0;34m)\u001b[0m\u001b[0;34m:\u001b[0m\u001b[0;34m\u001b[0m\u001b[0;34m\u001b[0m\u001b[0m\n\u001b[0m\u001b[1;32m    967\u001b[0m         \u001b[0;32mif\u001b[0m \u001b[0mhas_torch_function_unary\u001b[0m\u001b[0;34m(\u001b[0m\u001b[0mself\u001b[0m\u001b[0;34m)\u001b[0m\u001b[0;34m:\u001b[0m\u001b[0;34m\u001b[0m\u001b[0;34m\u001b[0m\u001b[0m\n\u001b[1;32m    968\u001b[0m             \u001b[0;32mreturn\u001b[0m \u001b[0mhandle_torch_function\u001b[0m\u001b[0;34m(\u001b[0m\u001b[0mTensor\u001b[0m\u001b[0;34m.\u001b[0m\u001b[0m__array__\u001b[0m\u001b[0;34m,\u001b[0m \u001b[0;34m(\u001b[0m\u001b[0mself\u001b[0m\u001b[0;34m,\u001b[0m\u001b[0;34m)\u001b[0m\u001b[0;34m,\u001b[0m \u001b[0mself\u001b[0m\u001b[0;34m,\u001b[0m \u001b[0mdtype\u001b[0m\u001b[0;34m=\u001b[0m\u001b[0mdtype\u001b[0m\u001b[0;34m)\u001b[0m\u001b[0;34m\u001b[0m\u001b[0;34m\u001b[0m\u001b[0m\n",
            "\u001b[0;31mKeyboardInterrupt\u001b[0m: "
          ]
        }
      ]
    },
    {
      "cell_type": "code",
      "source": [
        "%pip install transformers\n",
        "import torch\n",
        "import pandas as pd\n",
        "from transformers import BertTokenizer, BertModel\n",
        "from transformers import logging\n",
        "logging.set_verbosity_error()\n",
        "import torch\n",
        "from torch.utils.data import DataLoader, Dataset, TensorDataset\n",
        "import torchvision\n",
        "import torchvision.transforms as transforms\n",
        "from torch.utils.data.sampler import SubsetRandomSampler\n",
        "\n",
        "import numpy as np\n",
        "import pandas as pd\n",
        "import torch.nn as nn\n",
        "import torch.nn.functional as F\n",
        "class Mod(torch.nn.Module):\n",
        "  def __init__(self, num_hidden, num_outs):\n",
        "    super().__init__()\n",
        "    \n",
        "    self.fc1 = torch.nn.Linear(768,num_hidden)\n",
        "    \n",
        "    #self.fc2 = torch.nn.Linear(500,num_hidden)\n",
        "    self.drop = torch.nn.Dropout(0.33)\n",
        "    self.hidden = torch.nn.Linear(num_hidden,num_outs)\n",
        "\n",
        "  def forward(self,x):\n",
        "   # x = self.pool(x)\n",
        "    x = torch.nn.functional.relu(self.fc1(x))\n",
        "    #x = torch.nn.Dropout(0.2)(x)\n",
        "    x = self.drop(x)\n",
        "   \n",
        "    #x = torch.nn.functional.relu(self.fc2(x))\n",
        "    #x = torch.nn.Dropout(0.2)(x)\n",
        "    return self.hidden(x)\n",
        "\n",
        "device = \"cuda:0\" #might need to change this or add an if cuda.is_available() before it\n",
        "model = Mod(num_hidden = 300, num_outs = 2).to(device) \n",
        "#model.load_state_dict(torch.load(\"model_trained_on_fakeddit.pt\"))#,state_dict=\"state_dict\")\n",
        "optimizer = torch.optim.Adam(model.parameters(), lr=1e-4)\n",
        "criterion = torch.nn.CrossEntropyLoss() #I don't think the paper mentioned loss function used\n",
        "epochs = 10\n",
        "\n",
        "#Things to tune would be epochs, learning rate for adam, number of hidden layers\n",
        "#Haven't implemented use of validation set yet\n",
        "#train2df = pd.read_csv(\"train10bd.tsv\", delimiter=\"\\t\")\n",
        "test2df = pd.read_csv(root + 'mich/test2bd.tsv', delimiter='\\t')\n",
        "\n",
        "\n",
        "from torch import tensor\n",
        "def converter(x):\n",
        "    return eval(x)\n",
        "    \n",
        "\n",
        "#train2df['embedding'] = train2df['embedding'].apply(converter) #(Takes about 10 min on my pc)\n",
        "\n",
        "\n",
        "\n",
        "\n",
        "test2df['embedding'] = test2df['embedding'].apply(converter)\n",
        "\n",
        "\n",
        "\n",
        "\n",
        "\n",
        "#trainset = TensorDataset(torch.stack(list(train2df['embedding'])), torch.LongTensor(list(train2df['label'])))#change depending on 2 3 6 way - 3 and 6 uses _ instead of -\n",
        "#trainloader = DataLoader(trainset)\n",
        "\n",
        "testset = TensorDataset(torch.stack(list(test2df['embedding'])), torch.LongTensor(list(test2df['label'])))#change depending on 2 3 6 way\n",
        "testloader = DataLoader(testset)\n",
        "print(len(testloader))\n",
        "import os\n",
        "\n",
        "model.load_state_dict(torch.load(root + \"model/combined_model.pt\"))\n",
        "from sklearn import metrics\n",
        "for epoch in range(epochs):\n",
        "    successes = 0\n",
        "    ypred = []\n",
        "    ytrue = []\n",
        "    model.train()\n",
        "    i = 0\n",
        "    #for data, target in trainloader:\n",
        "            \n",
        "           \n",
        "        #try:\n",
        "            # optimizer.zero_grad()\n",
        "            \n",
        "            # data = data.to(device)\n",
        "            \n",
        "            # output = model(data[0].to(device)).to(device)\n",
        "        \n",
        "            # loss = criterion(output,target.to(device))\n",
        "            \n",
        "            # loss.backward()\n",
        "            # optimizer.step()\n",
        "        #except:\n",
        "           \n",
        "    \n",
        "    model.eval()\n",
        "    with torch.no_grad():\n",
        "        for i,r in test2df.iterrows():\n",
        "            \n",
        "            #try:\n",
        "                \n",
        "             \n",
        "                \n",
        "                output = model(r[\"embedding\"])\n",
        "                ypred.append(output.argmax().cpu())\n",
        "                ytrue.append(r[\"label\"])\n",
        "            \n",
        "                \n",
        "                if output.argmax() == r[\"label\"]:\n",
        "                    successes += 1\n",
        "                else:\n",
        "                    print(r[\"text\"] + \"\\n label:\"+ str(r[\"label\"]) )\n",
        "                     \n",
        "            #except:\n",
        "                \n",
        "    \n",
        "\n",
        "    print(\"EPOCH: \" + str(epoch + 1) + \" Accuracy:\" + str(successes/len(testloader)) )\n",
        "    print(\"F1: \" + str(metrics.f1_score(ytrue,ypred)))\n",
        "    print(\"AUC: \" + str(metrics.roc_auc_score(ytrue,ypred)))\n",
        "    break\n",
        "    \n",
        "\n",
        "#Takes around 9 min per epoch on my pc when running the full dataset            \n",
        "\n",
        "\n",
        "\n",
        "#torch.save(model.state_dict(),\"combined_model.pt\")"
      ],
      "metadata": {
        "colab": {
          "base_uri": "https://localhost:8080/"
        },
        "id": "HqrYyTd0sML8",
        "outputId": "3b486c04-95cf-4f6a-c0fb-dac3681c8e44"
      },
      "execution_count": null,
      "outputs": [
        {
          "output_type": "stream",
          "name": "stdout",
          "text": [
            "Looking in indexes: https://pypi.org/simple, https://us-python.pkg.dev/colab-wheels/public/simple/\n",
            "Requirement already satisfied: transformers in /usr/local/lib/python3.9/dist-packages (4.28.1)\n",
            "Requirement already satisfied: requests in /usr/local/lib/python3.9/dist-packages (from transformers) (2.27.1)\n",
            "Requirement already satisfied: filelock in /usr/local/lib/python3.9/dist-packages (from transformers) (3.11.0)\n",
            "Requirement already satisfied: packaging>=20.0 in /usr/local/lib/python3.9/dist-packages (from transformers) (23.1)\n",
            "Requirement already satisfied: tqdm>=4.27 in /usr/local/lib/python3.9/dist-packages (from transformers) (4.65.0)\n",
            "Requirement already satisfied: pyyaml>=5.1 in /usr/local/lib/python3.9/dist-packages (from transformers) (6.0)\n",
            "Requirement already satisfied: regex!=2019.12.17 in /usr/local/lib/python3.9/dist-packages (from transformers) (2022.10.31)\n",
            "Requirement already satisfied: huggingface-hub<1.0,>=0.11.0 in /usr/local/lib/python3.9/dist-packages (from transformers) (0.13.4)\n",
            "Requirement already satisfied: numpy>=1.17 in /usr/local/lib/python3.9/dist-packages (from transformers) (1.22.4)\n",
            "Requirement already satisfied: tokenizers!=0.11.3,<0.14,>=0.11.1 in /usr/local/lib/python3.9/dist-packages (from transformers) (0.13.3)\n",
            "Requirement already satisfied: typing-extensions>=3.7.4.3 in /usr/local/lib/python3.9/dist-packages (from huggingface-hub<1.0,>=0.11.0->transformers) (4.5.0)\n",
            "Requirement already satisfied: urllib3<1.27,>=1.21.1 in /usr/local/lib/python3.9/dist-packages (from requests->transformers) (1.26.15)\n",
            "Requirement already satisfied: charset-normalizer~=2.0.0 in /usr/local/lib/python3.9/dist-packages (from requests->transformers) (2.0.12)\n",
            "Requirement already satisfied: idna<4,>=2.5 in /usr/local/lib/python3.9/dist-packages (from requests->transformers) (3.4)\n",
            "Requirement already satisfied: certifi>=2017.4.17 in /usr/local/lib/python3.9/dist-packages (from requests->transformers) (2022.12.7)\n",
            "400\n",
            "another pardon disgrace\n",
            " label:1\n",
            "five tips for smart people in a not-so-smart world\n",
            " label:0\n",
            "elton john denies trump advisor’s claim that he’s performing at inauguration\n",
            " label:1\n",
            "abusive police technology and dr. turi's predictions\n",
            " label:0\n",
            "goodwill to pay disabled workers in loose change from donated couches\n",
            " label:0\n",
            "bank of canada has a new chief\n",
            " label:1\n",
            "spotted: hillary clinton with bill clinton at a rhode island bookstore - cnnpolitics.com\n",
            " label:1\n",
            "fedex truck splits in half after crash with passenger train\n",
            " label:0\n",
            "boyfriend of pregnant md. teacher indicted in her murder - nbc washington\n",
            " label:0\n",
            "of unicorns and satyrs and things with no knees\n",
            " label:1\n",
            "bach forever! camerata pacifica enters the fray\n",
            " label:1\n",
            "india to revamp its submarine fleet to meet admist rising naval tensions in the region\n",
            " label:0\n",
            "1st skill-based slot machines in us launch in atlantic city\n",
            " label:1\n",
            "armless pianist begins world tour\n",
            " label:0\n",
            "forcing a final four not a motivation for ateneo win vs la salle – arespacochaga\n",
            " label:1\n",
            "the analyst view on ad tech company rubicon project is brutal right now\n",
            " label:1\n",
            "paki pastor denied bail for blasphemy\n",
            " label:0\n",
            "greenbrier q3 profit beats on higher railcar deliveries, revenue misses\n",
            " label:0\n",
            "lch targets bank business with bilateral swaps launch\n",
            " label:1\n",
            "the noblest collie of all bounds anew in the glen\n",
            " label:1\n",
            "pain and suffering\n",
            " label:0\n",
            "fair disclosure on wall street\n",
            " label:1\n",
            "why i waited in line for snapchat spectacles\n",
            " label:1\n",
            "tiger woods returns to winning ways at bay hill\n",
            " label:0\n",
            "roads blocked in black lives matter protests\n",
            " label:0\n",
            "here's why stars are wearing blue ribbons on the emmys red carpet - insider\n",
            " label:0\n",
            "hot two wheeled adventure in canyonlands, utah\n",
            " label:0\n",
            "2 charged with murder after accomplice is killed during break-in\n",
            " label:0\n",
            "the binary low table looks like a borg starship\n",
            " label:0\n",
            "the insane numbers behind trump’s deportation plan\n",
            " label:1\n",
            "when obama was elected president vs. when trump was elected president\n",
            " label:1\n",
            "my war away from war\n",
            " label:1\n",
            "officers cleared of criminal charges in killing of tamir rice, 12\n",
            " label:0\n",
            "trump could win texas\n",
            " label:0\n",
            "close encounter of the human kind\n",
            " label:1\n",
            "outreachy\n",
            " label:1\n",
            "rubio, west condemn consulate attacks\n",
            " label:0\n",
            "i saw what you did and i know who you are. my phone told me.\n",
            " label:1\n",
            "pro-woman. pro-life. is there really a contradiction?\n",
            " label:0\n",
            "san diego officers shot during traffic stop\n",
            " label:0\n",
            "west papuans testify\n",
            " label:0\n",
            "cell phone photo of airsoft gun causes stir at nj high school\n",
            " label:0\n",
            "next dylan? not yet\n",
            " label:1\n",
            "politics on my mind: what ambivalence?\n",
            " label:1\n",
            "mind over matter\n",
            " label:1\n",
            "zimbabwe diamond scandal overlooked\n",
            " label:0\n",
            "going to dubai\n",
            " label:1\n",
            "siding with saudi arabia, obama vetoes sept 11 bill passed unanimously in congress\n",
            " label:0\n",
            "berlin: pergamon plans\n",
            " label:1\n",
            "the president looks toward war\n",
            " label:1\n",
            "t-mobile claims right to censor text messages\n",
            " label:0\n",
            "six destinations on the urban landscape\n",
            " label:1\n",
            "u.s. census bureau daily feature for november 17: seat of government\n",
            " label:1\n",
            "bulgaria coal mine landslide claims 2\n",
            " label:0\n",
            "united parcel service, inc. (ups) union oks a strike\n",
            " label:1\n",
            "due diligence on the donald\n",
            " label:1\n",
            "images of syrian boy remind us of the forgotten victims of permanent war\n",
            " label:0\n",
            "3 ways to turn trump into a dictator\n",
            " label:1\n",
            "affordable care act\n",
            " label:1\n",
            "stolen property not accepted here\n",
            " label:0\n",
            "look for print version of fight to evolve on april 14\n",
            " label:0\n",
            "tennessee man charged with killing mother at her son’s birthday party\n",
            " label:0\n",
            "utah legislature sends strong gold standard message to washington\n",
            " label:0\n",
            "russia withdraws from nuclear agreement, citing us distrust\n",
            " label:0\n",
            "new york not first\n",
            " label:1\n",
            "a reading binge\n",
            " label:1\n",
            "ideas & trends; this story is not rated r. everybody please read it.\n",
            " label:1\n",
            "baby dog trainer calls the shots\n",
            " label:0\n",
            "blooms on display around philadelphia\n",
            " label:1\n",
            "our sunday visitor becomes english distributor for vatican newspaper\n",
            " label:0\n",
            "former penn state scumbags face sentencing for sandusky scandal\n",
            " label:0\n",
            "brooklyn: fines upheld against unions\n",
            " label:1\n",
            "asu alum heads islamic group seeking global blasphemy laws\n",
            " label:0\n",
            "obama really, really hopes the next president sticks with his tumblr account\n",
            " label:1\n",
            "is free will an illusion? scientists, philosophers forced to differ\n",
            " label:0\n",
            "EPOCH: 1 Accuracy:0.8125\n",
            "F1: 0.813895781637717\n",
            "AUC: 0.8124828120703018\n"
          ]
        }
      ]
    }
  ]
}