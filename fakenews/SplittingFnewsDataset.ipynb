{
 "cells": [
  {
   "cell_type": "code",
   "execution_count": 10,
   "metadata": {},
   "outputs": [],
   "source": [
    "import csv\n",
    "import torch\n",
    "import pandas as pd\n",
    "import numpy as np\n",
    "df = pd.DataFrame()"
   ]
  },
  {
   "cell_type": "code",
   "execution_count": 11,
   "metadata": {},
   "outputs": [
    {
     "name": "stderr",
     "output_type": "stream",
     "text": [
      "C:\\Users\\guast\\AppData\\Local\\Temp\\ipykernel_13004\\651093415.py:1: DtypeWarning: Columns (6,12,13,14) have mixed types. Specify dtype option on import or set low_memory=False.\n",
      "  a = pd.read_csv(\"reliable.csv\")\n"
     ]
    }
   ],
   "source": [
    "a = pd.read_csv(\"reliable.csv\")\n"
   ]
  },
  {
   "cell_type": "code",
   "execution_count": 12,
   "metadata": {},
   "outputs": [
    {
     "name": "stderr",
     "output_type": "stream",
     "text": [
      "C:\\Users\\guast\\AppData\\Local\\Temp\\ipykernel_13004\\3724278456.py:1: DtypeWarning: Columns (13) have mixed types. Specify dtype option on import or set low_memory=False.\n",
      "  b = pd.read_csv(\"fakers.csv\")\n"
     ]
    }
   ],
   "source": [
    "b = pd.read_csv(\"fakers.csv\")\n",
    "c = pd.read_csv(\"clickbait.csv\")\n"
   ]
  },
  {
   "cell_type": "code",
   "execution_count": 13,
   "metadata": {},
   "outputs": [],
   "source": [
    "#title - make label based on it - train test split\n",
    "# 300k combined - 150 k each - then do split 80/20 - 240k and 60k\n",
    "#then make bert encodings on train and test separately and save them to files then do training\n",
    "reliabledf = a\n",
    "fakedf = b\n",
    "clickdf = c\n",
    "\n",
    "#sample remove other colums - add label\n",
    "reliabledf = reliabledf.drop_duplicates(keep=\"first\") \n",
    "reliabledf = reliabledf[['title']]\n",
    "reliabledf = reliabledf.sample(150000)\n",
    "reliabledf['label'] = 1\n",
    "\n",
    "\n",
    "fakedf = fakedf.drop_duplicates(keep=\"first\")\n",
    "fakedf = fakedf[['title']]\n",
    "fakedf = fakedf.sample(150000)\n",
    "fakedf['label'] = 0\n",
    "\n",
    "\n",
    "clickdf = clickdf.drop_duplicates(keep=\"first\")\n",
    "clickdf = clickdf[['title']]\n",
    "clickdf = clickdf.sample(150000)\n",
    "clickdf['label'] = 0\n",
    "\n",
    "\n",
    "mixeddf = pd.concat([fakedf,reliabledf])\n",
    "mixeddf['title'] = mixeddf['title'].apply(str)\n",
    "\n",
    "clickmixed = pd.concat([clickdf,reliabledf])\n",
    "clickmixed['title'] = clickmixed['title'].apply(str)\n",
    "\n"
   ]
  },
  {
   "cell_type": "code",
   "execution_count": 14,
   "metadata": {},
   "outputs": [],
   "source": [
    "X =  mixeddf['title']\n",
    "y = mixeddf['label']"
   ]
  },
  {
   "cell_type": "code",
   "execution_count": 15,
   "metadata": {},
   "outputs": [],
   "source": [
    "from sklearn.model_selection import train_test_split\n",
    "\n",
    "X_train, X_test, y_train, y_test = train_test_split(X,y,test_size=0.2, random_state=42)\n",
    "\n",
    "\n",
    "\n",
    "\n"
   ]
  },
  {
   "cell_type": "code",
   "execution_count": 16,
   "metadata": {},
   "outputs": [
    {
     "name": "stdout",
     "output_type": "stream",
     "text": [
      "                                                    title  label\n",
      "378394            the seventies give nostalgia a bad name      1\n",
      "500845  what dr. pimple popper found near this woman’s...      0\n",
      "100781  grain lower, livestock mostly higher - houston...      1\n",
      "879774  hitting rewind in rerun season: dvd's culled f...      1\n",
      "643966  football star in connecticut killed on eve of ...      1\n",
      "...                                                   ...    ...\n",
      "158112                                      migration (1)      0\n",
      "769523  world business briefing | asia: japan: currenc...      1\n",
      "530996                                         laura bush      0\n",
      "90278                            sixty years of sweetness      0\n",
      "633532       robin williams: what nobody will talk about!      0\n",
      "\n",
      "[240000 rows x 2 columns]\n",
      "                                                    title  label\n",
      "623426  astronomers discover the earliest echoes of th...      0\n",
      "617756  “town hall” debate: will voters ask the medica...      0\n",
      "651166                stories contributed by contrapuntos      0\n",
      "67113   american young performs 'soldier's wife' | on air      1\n",
      "418419             shattering barriers for women in track      1\n",
      "...                                                   ...    ...\n",
      "691327                        latests from exogen, 21 jan      0\n",
      "233152                               insider tips: sprint      1\n",
      "403941  cop 21: un plan to make legally binding climat...      0\n",
      "70486        fantasy football waiver wire for nfl week 12      1\n",
      "814958   if men acted like feminists (hate mail special!)      0\n",
      "\n",
      "[60000 rows x 2 columns]\n"
     ]
    }
   ],
   "source": [
    "traindf = pd.DataFrame()\n",
    "traindf['title'] = X_train\n",
    "traindf['label'] = y_train\n",
    "\n",
    "traindf['title'] = traindf['title'].apply(str.lower)\n",
    "print(traindf)\n",
    "traindf.to_csv(\"fake-real-train.csv\")\n",
    "\n",
    "testdf = pd.DataFrame()\n",
    "testdf['title'] = X_test\n",
    "testdf['label'] = y_test\n",
    "\n",
    "testdf['title'] = testdf['title'].apply(str.lower)\n",
    "print(testdf)\n",
    "testdf.to_csv(\"fake-real-test.csv\")"
   ]
  },
  {
   "cell_type": "code",
   "execution_count": 17,
   "metadata": {},
   "outputs": [],
   "source": [
    "import torch\n",
    "from torch.utils.data import DataLoader, Dataset, TensorDataset\n",
    "import torchvision\n",
    "import torchvision.transforms as transforms\n",
    "from torch.utils.data.sampler import SubsetRandomSampler\n",
    "\n",
    "import numpy as np\n",
    "import pandas as pd\n",
    "import torch.nn as nn\n",
    "import torch.nn.functional as F"
   ]
  },
  {
   "cell_type": "code",
   "execution_count": 18,
   "metadata": {},
   "outputs": [
    {
     "name": "stdout",
     "output_type": "stream",
     "text": [
      "                                                    title  label\n",
      "378394            the seventies give nostalgia a bad name      1\n",
      "186537         five best ways to deal with the worst boss      0\n",
      "100781  grain lower, livestock mostly higher - houston...      1\n",
      "879774  hitting rewind in rerun season: dvd's culled f...      1\n",
      "643966  football star in connecticut killed on eve of ...      1\n",
      "...                                                   ...    ...\n",
      "202088  whoa: al sharpton’s ‘hot take’ on roger ailes’...      0\n",
      "769523  world business briefing | asia: japan: currenc...      1\n",
      "103864  putin spokesman: clinton officials met russian...      0\n",
      "121236                      david f. damore ph.d archives      0\n",
      "82405                 the assassination attempt of a pope      0\n",
      "\n",
      "[240000 rows x 2 columns]\n",
      "                                                    title  label\n",
      "178514  ‘say what now’? looks like john kerry’s not to...      0\n",
      "10463   birds mysteriously drop dead from the sky in t...      0\n",
      "5800                            austin gillespie archives      0\n",
      "67113   american young performs 'soldier's wife' | on air      1\n",
      "418419             shattering barriers for women in track      1\n",
      "...                                                   ...    ...\n",
      "68211                               long live her majesty      0\n",
      "233152                               insider tips: sprint      1\n",
      "46339       trump and pope tied for second ‘most admired’      0\n",
      "70486        fantasy football waiver wire for nfl week 12      1\n",
      "138369  game changer? mark halperin accused of sexual ...      0\n",
      "\n",
      "[60000 rows x 2 columns]\n"
     ]
    }
   ],
   "source": [
    "X_train, X_test, y_train, y_test = train_test_split(clickmixed['title'],clickmixed['label'],test_size=0.2, random_state=42)\n",
    "\n",
    "traindf = pd.DataFrame()\n",
    "traindf['title'] = X_train\n",
    "traindf['label'] = y_train\n",
    "\n",
    "traindf['title'] = traindf['title'].apply(str.lower)\n",
    "print(traindf)\n",
    "traindf.to_csv(\"click-real-train.csv\")\n",
    "\n",
    "testdf = pd.DataFrame()\n",
    "testdf['title'] = X_test\n",
    "testdf['label'] = y_test\n",
    "\n",
    "testdf['title'] = testdf['title'].apply(str.lower)\n",
    "print(testdf)\n",
    "testdf.to_csv(\"click-real-test.csv\")\n",
    "\n"
   ]
  }
 ],
 "metadata": {
  "kernelspec": {
   "display_name": "base",
   "language": "python",
   "name": "python3"
  },
  "language_info": {
   "codemirror_mode": {
    "name": "ipython",
    "version": 3
   },
   "file_extension": ".py",
   "mimetype": "text/x-python",
   "name": "python",
   "nbconvert_exporter": "python",
   "pygments_lexer": "ipython3",
   "version": "3.9.13"
  },
  "orig_nbformat": 4,
  "vscode": {
   "interpreter": {
    "hash": "29a1f184ef47e50188ad724faf855c2d61f1ecd260e34595dbeba947cc1e9be6"
   }
  }
 },
 "nbformat": 4,
 "nbformat_minor": 2
}
